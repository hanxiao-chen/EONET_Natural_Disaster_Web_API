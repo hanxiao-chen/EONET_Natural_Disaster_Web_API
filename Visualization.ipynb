{
 "cells": [
  {
   "cell_type": "markdown",
   "metadata": {},
   "source": [
    "# Visualization"
   ]
  },
  {
   "cell_type": "markdown",
   "metadata": {},
   "source": [
    "This file provides two functions for visualizing the natural disaster distribution and the alarming rate for wildfires."
   ]
  },
  {
   "cell_type": "code",
   "execution_count": 1,
   "metadata": {},
   "outputs": [],
   "source": [
    "import pandas as pd\n",
    "import plotly.express as px\n",
    "import plotly.graph_objects as go\n",
    "\n",
    "from datetime import datetime, timedelta\n",
    "from database import fetch_all_wea_as_df, fetch_all_dis_as_df\n",
    "from plotly.subplots import make_subplots\n",
    "from sklearn.ensemble import RandomForestRegressor\n",
    "from prediction import kde as kde_func\n",
    "import numpy as np\n",
    "\n",
    "import pickle"
   ]
  },
  {
   "cell_type": "markdown",
   "metadata": {},
   "source": [
    "### Natural Disaster Distribution"
   ]
  },
  {
   "cell_type": "markdown",
   "metadata": {},
   "source": [
    "This function called map_plot() returns a plotly.graph_object object which plots the natural disasters on the satellite map by geographical locations, given the chosen disaster type and the status of the disaster (happening/closed)."
   ]
  },
  {
   "cell_type": "code",
   "execution_count": 2,
   "metadata": {},
   "outputs": [],
   "source": [
    "def map_plot(df):\n",
    "    fig = go.Figure()\n",
    "    dt_now = datetime.now()\n",
    "    dt_last = dt_now - timedelta(days=365)\n",
    "    df = df[df['datetime']>dt_last]\n",
    "    df1, df2 = df[df['status']=='open'], df[df['status']=='closed']\n",
    "    fig.add_trace(go.Scattermapbox(\n",
    "            lat=df2[\"geo2\"], lon=df2[\"geo1\"],\n",
    "            mode='markers',\n",
    "            marker=go.scattermapbox.Marker(\n",
    "                size=10,\n",
    "                opacity=0.5,\n",
    "                color='rgb(64, 224, 178)'\n",
    "            ),\n",
    "            text=['disaster closed'],\n",
    "    ))\n",
    "    fig.add_trace(go.Scattermapbox(\n",
    "            lat=df1[\"geo2\"], lon=df1[\"geo1\"],\n",
    "            mode='markers',\n",
    "            marker=go.scattermapbox.Marker(\n",
    "                size=11,\n",
    "                opacity=0.8,\n",
    "                color='rgb(255, 127, 80)'\n",
    "            ),\n",
    "            text=['disaster open'],\n",
    "    ))\n",
    "\n",
    "    fig.update_layout(\n",
    "        mapbox_style=\"white-bg\",\n",
    "        width=900,\n",
    "        height=450,\n",
    "        showlegend=False,\n",
    "        #geo={'center':{'lon':30, 'lat':20}},\n",
    "        mapbox_layers=[\n",
    "            {\"below\": 'traces',\n",
    "            \"sourcetype\": \"raster\",\n",
    "            \"source\": [\n",
    "            \"https://basemap.nationalmap.gov/arcgis/rest/services/USGSImageryOnly/MapServer/tile/{z}/{y}/{x}\"\n",
    "            ]},\n",
    "        ])\n",
    "    fig.update_layout(template='plotly_dark', \n",
    "                      margin={\"r\":0,\"t\":0,\"l\":0,\"b\":0})\n",
    "    return fig"
   ]
  },
  {
   "cell_type": "markdown",
   "metadata": {},
   "source": [
    "### Wildfires Alarm"
   ]
  },
  {
   "cell_type": "markdown",
   "metadata": {},
   "source": [
    "The function alarm_predict() returns a tuple with two objects, a series of dates (one week after today) as well as the predicted wildfire alarm rate for that day. We used pickle here to get the trained randomforest model and feed the weather data into it and predict."
   ]
  },
  {
   "cell_type": "code",
   "execution_count": 3,
   "metadata": {},
   "outputs": [],
   "source": [
    "def alarm_predict(city='LA', arate=1):\n",
    "    rate_d = {1:'002', 2:'005', 3:'010'}\n",
    "    fname = 'processed_data/rf_'+rate_d[arate]+'_'+city.lower()+'.pickle'\n",
    "    reg = pickle.load(open(fname, 'rb'))\n",
    "    if city not in ['LA', 'ST']:\n",
    "        return None\n",
    "    dfx = fetch_all_wea_as_df()\n",
    "    dfx = dfx[dfx['date']>datetime.now()-timedelta(days=1)].sort_values(by='date')\n",
    "    if city=='LA':\n",
    "        dfx = dfx[dfx['lat']==34]\n",
    "    else:\n",
    "        dfx = dfx[dfx['lat']==47]\n",
    "    X_test = dfx.drop('date',1).values\n",
    "\n",
    "    return dfx['date'], reg.predict(X_test)"
   ]
  },
  {
   "cell_type": "markdown",
   "metadata": {},
   "source": [
    "The function alarm_visualization() returns a plotly.graph_objects object whose x axis is the date while having double y axises showing the corresponding highest temperature and the calculated/predicted wildfire alarm rate, given the chosen city (seattle/los angels) and chosen alarm rate."
   ]
  },
  {
   "cell_type": "code",
   "execution_count": 4,
   "metadata": {},
   "outputs": [],
   "source": [
    "def alarm_visualization(city, rate):\n",
    "    \"\"\"Changes the display graph of supply-demand\"\"\"\n",
    "    if city not in ['LA','ST']:\n",
    "        return go.Figure()\n",
    "    df = fetch_all_wea_as_df(allow_cached=True)\n",
    "    df = df[df['date']>datetime.now()-timedelta(days=21)].sort_values(by=['date'])\n",
    "    if city == 'LA':\n",
    "        df_u = df[df['lat']==34]\n",
    "    elif city == 'ST':\n",
    "        df_u = df[df['lat']==47]\n",
    "    fig = make_subplots(specs=[[{\"secondary_y\": True}]])\n",
    "\n",
    "    fig.add_trace(go.Scatter(x=df_u['date'], y=df_u['temperatureHigh'], mode='lines', name='High Temperature',\n",
    "                             line={'width': 2, 'color': 'orange'}), secondary_y=False)\n",
    "\n",
    "    try:                         \n",
    "        d2, y2 = alarm_predict(city, rate)\n",
    "        rate_f = {1:0.2, 2: 0.5, 3:1}\n",
    "        dfkde = kde_func(fetch_all_dis_as_df(), rate_f[rate], city.lower()).sort_values(by='date')\n",
    "        # print(dfkde)\n",
    "        fig.add_trace(go.Scatter(x=dfkde['date'], y=np.exp(dfkde['kde']), mode='lines', name='Real WildFire Rate', \n",
    "                                fill='tozeroy', line={'width': 2, 'color': 'pink'}, stackgroup='stack'), secondary_y=True)\n",
    "        fig.add_trace(go.Scatter(x=d2, y=np.exp(y2), mode='lines', name='Predicted WildFire Rate',fill='tozeroy',\n",
    "                                line={'width': 2, 'color': 'red'}, stackgroup='stack'), secondary_y=True)\n",
    "    except:\n",
    "        pass\n",
    "\n",
    "\n",
    "    fig.update_layout(template='plotly_dark',\n",
    "                      showlegend=True,\n",
    "                      plot_bgcolor='#23272c',\n",
    "                      paper_bgcolor='#23272c',\n",
    "                      yaxis_title='Alarm Rate',\n",
    "                      xaxis_title='Date/Time',\n",
    "                      )\n",
    "    return fig"
   ]
  },
  {
   "cell_type": "code",
   "execution_count": null,
   "metadata": {},
   "outputs": [],
   "source": []
  }
 ],
 "metadata": {
  "kernelspec": {
   "display_name": "Python 3",
   "language": "python",
   "name": "python3"
  },
  "language_info": {
   "codemirror_mode": {
    "name": "ipython",
    "version": 3
   },
   "file_extension": ".py",
   "mimetype": "text/x-python",
   "name": "python",
   "nbconvert_exporter": "python",
   "pygments_lexer": "ipython3",
   "version": "3.7.3"
  }
 },
 "nbformat": 4,
 "nbformat_minor": 2
}
