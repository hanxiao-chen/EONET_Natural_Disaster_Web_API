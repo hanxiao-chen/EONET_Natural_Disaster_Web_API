{
 "cells": [
  {
   "cell_type": "code",
   "execution_count": 8,
   "metadata": {},
   "outputs": [],
   "source": [
    "\"\"\"\n",
    "Earth Observatory Natural Event Tracker.\n",
    "\"\"\"\n",
    "import time\n",
    "import sched\n",
    "import pandas as pd\n",
    "import json\n",
    "import logging\n",
    "import requests\n",
    "import numpy as np\n",
    "from io import StringIO\n",
    "\n",
    "import utils\n",
    "#from database import upsert_bpa\n",
    "\n",
    "\n",
    "DIS_SOURCE = \"https://eonet.sci.gsfc.nasa.gov/api/v2.1/events\"\n",
    "MAX_DOWNLOAD_ATTEMPT = 5\n",
    "DOWNLOAD_PERIOD = 10         # second\n",
    "logger = logging.Logger(__name__)\n",
    "utils.setup_logger(logger, 'data.log')"
   ]
  },
  {
   "cell_type": "code",
   "execution_count": 9,
   "metadata": {},
   "outputs": [],
   "source": [
    "def download_disaster(url=DIS_SOURCE, retries=MAX_DOWNLOAD_ATTEMPT, limit = 10, days = 2):\n",
    "    \"\"\"Returns disaster information text from `DIS_SOURCE` that includes disaster information\n",
    "    Returns None if network failed\n",
    "    \"\"\"\n",
    "    js = None\n",
    "    for i in range(retries):\n",
    "        try:\n",
    "            req = requests.get(f\"{url}?limit={limit}&days={days}\", timeout=1.0)\n",
    "            req.raise_for_status()\n",
    "            text = req.text\n",
    "            js = json.loads(text)\n",
    "        except requests.exceptions.HTTPError as e:\n",
    "            logger.warning(\"Retry on HTTP Error: {}\".format(e))\n",
    "    if js is None:\n",
    "        logger.error('download_dis too many FAILED attempts')\n",
    "    return js"
   ]
  },
  {
   "cell_type": "code",
   "execution_count": 10,
   "metadata": {},
   "outputs": [],
   "source": [
    "def filter_dis(js):\n",
    "    \"\"\"Converts `json` to `DataFrame`\n",
    "    \"\"\"\n",
    "    data = []\n",
    "    filter_tits = [\"Wildfires\", \"Severe_Storms\", \"Sea_and_Lake_Ice\"]\n",
    "    for x in js[\"events\"]:\n",
    "        tit = x[\"categories\"][0][\"title\"].replace(\" \",\"_\")\n",
    "        if tit not in filter_tits:\n",
    "            continue\n",
    "        g = x[\"geometries\"]\n",
    "        for gg in g:\n",
    "            dt, geo = pd.to_datetime(gg[\"date\"]), gg['coordinates']\n",
    "            singled = [tit, dt, geo[0], geo[1]]\n",
    "            data.append(singled)\n",
    "    data = np.array(data)\n",
    "    df = pd.DataFrame(data, columns = [\"title\", \"datetime\", \"geo1\", \"geo2\"])\n",
    "    return df"
   ]
  },
  {
   "cell_type": "code",
   "execution_count": 11,
   "metadata": {
    "scrolled": true
   },
   "outputs": [
    {
     "data": {
      "text/html": [
       "<div>\n",
       "<style scoped>\n",
       "    .dataframe tbody tr th:only-of-type {\n",
       "        vertical-align: middle;\n",
       "    }\n",
       "\n",
       "    .dataframe tbody tr th {\n",
       "        vertical-align: top;\n",
       "    }\n",
       "\n",
       "    .dataframe thead th {\n",
       "        text-align: right;\n",
       "    }\n",
       "</style>\n",
       "<table border=\"1\" class=\"dataframe\">\n",
       "  <thead>\n",
       "    <tr style=\"text-align: right;\">\n",
       "      <th></th>\n",
       "      <th>title</th>\n",
       "      <th>datetime</th>\n",
       "      <th>geo1</th>\n",
       "      <th>geo2</th>\n",
       "    </tr>\n",
       "  </thead>\n",
       "  <tbody>\n",
       "    <tr>\n",
       "      <th>0</th>\n",
       "      <td>Wildfires</td>\n",
       "      <td>2019-12-05 15:52:00+00:00</td>\n",
       "      <td>-71.6863</td>\n",
       "      <td>-33.399</td>\n",
       "    </tr>\n",
       "    <tr>\n",
       "      <th>1</th>\n",
       "      <td>Severe_Storms</td>\n",
       "      <td>2019-12-05 00:00:00+00:00</td>\n",
       "      <td>63.6</td>\n",
       "      <td>-7.8</td>\n",
       "    </tr>\n",
       "    <tr>\n",
       "      <th>2</th>\n",
       "      <td>Severe_Storms</td>\n",
       "      <td>2019-12-05 06:00:00+00:00</td>\n",
       "      <td>63.2</td>\n",
       "      <td>-8.6</td>\n",
       "    </tr>\n",
       "    <tr>\n",
       "      <th>3</th>\n",
       "      <td>Severe_Storms</td>\n",
       "      <td>2019-12-05 12:00:00+00:00</td>\n",
       "      <td>62.7</td>\n",
       "      <td>-9.2</td>\n",
       "    </tr>\n",
       "    <tr>\n",
       "      <th>4</th>\n",
       "      <td>Severe_Storms</td>\n",
       "      <td>2019-12-05 18:00:00+00:00</td>\n",
       "      <td>62.4</td>\n",
       "      <td>-9.9</td>\n",
       "    </tr>\n",
       "    <tr>\n",
       "      <th>...</th>\n",
       "      <td>...</td>\n",
       "      <td>...</td>\n",
       "      <td>...</td>\n",
       "      <td>...</td>\n",
       "    </tr>\n",
       "    <tr>\n",
       "      <th>460</th>\n",
       "      <td>Sea_and_Lake_Ice</td>\n",
       "      <td>2019-09-13 00:00:00+00:00</td>\n",
       "      <td>-40.25</td>\n",
       "      <td>-76.23</td>\n",
       "    </tr>\n",
       "    <tr>\n",
       "      <th>461</th>\n",
       "      <td>Sea_and_Lake_Ice</td>\n",
       "      <td>2019-10-10 00:00:00+00:00</td>\n",
       "      <td>-39.15</td>\n",
       "      <td>-75.78</td>\n",
       "    </tr>\n",
       "    <tr>\n",
       "      <th>462</th>\n",
       "      <td>Sea_and_Lake_Ice</td>\n",
       "      <td>2019-10-18 00:00:00+00:00</td>\n",
       "      <td>-37.61</td>\n",
       "      <td>-75.38</td>\n",
       "    </tr>\n",
       "    <tr>\n",
       "      <th>463</th>\n",
       "      <td>Sea_and_Lake_Ice</td>\n",
       "      <td>2019-10-25 00:00:00+00:00</td>\n",
       "      <td>-38.96</td>\n",
       "      <td>-75.81</td>\n",
       "    </tr>\n",
       "    <tr>\n",
       "      <th>464</th>\n",
       "      <td>Wildfires</td>\n",
       "      <td>2019-09-05 17:00:00+00:00</td>\n",
       "      <td>-113.158</td>\n",
       "      <td>38.104</td>\n",
       "    </tr>\n",
       "  </tbody>\n",
       "</table>\n",
       "<p>465 rows × 4 columns</p>\n",
       "</div>"
      ],
      "text/plain": [
       "                title                  datetime     geo1    geo2\n",
       "0           Wildfires 2019-12-05 15:52:00+00:00 -71.6863 -33.399\n",
       "1       Severe_Storms 2019-12-05 00:00:00+00:00     63.6    -7.8\n",
       "2       Severe_Storms 2019-12-05 06:00:00+00:00     63.2    -8.6\n",
       "3       Severe_Storms 2019-12-05 12:00:00+00:00     62.7    -9.2\n",
       "4       Severe_Storms 2019-12-05 18:00:00+00:00     62.4    -9.9\n",
       "..                ...                       ...      ...     ...\n",
       "460  Sea_and_Lake_Ice 2019-09-13 00:00:00+00:00   -40.25  -76.23\n",
       "461  Sea_and_Lake_Ice 2019-10-10 00:00:00+00:00   -39.15  -75.78\n",
       "462  Sea_and_Lake_Ice 2019-10-18 00:00:00+00:00   -37.61  -75.38\n",
       "463  Sea_and_Lake_Ice 2019-10-25 00:00:00+00:00   -38.96  -75.81\n",
       "464         Wildfires 2019-09-05 17:00:00+00:00 -113.158  38.104\n",
       "\n",
       "[465 rows x 4 columns]"
      ]
     },
     "execution_count": 11,
     "metadata": {},
     "output_type": "execute_result"
    }
   ],
   "source": [
    "js = download_disaster(url=DIS_SOURCE, retries=MAX_DOWNLOAD_ATTEMPT, limit = 100, days = 100)\n",
    "filter_dis(js)"
   ]
  },
  {
   "cell_type": "code",
   "execution_count": 12,
   "metadata": {},
   "outputs": [],
   "source": [
    "def update_once():\n",
    "    t = download_disaster(limit = 10, days = 10)\n",
    "    df = filter_dis(t)\n",
    "    #upsert_bpa(df)"
   ]
  },
  {
   "cell_type": "code",
   "execution_count": 13,
   "metadata": {},
   "outputs": [],
   "source": [
    "def main_loop(timeout=DOWNLOAD_PERIOD):\n",
    "    scheduler = sched.scheduler(time.time, time.sleep)\n",
    "\n",
    "    def _worker():\n",
    "        try:\n",
    "            update_once()\n",
    "        except Exception as e:\n",
    "            logger.warning(\"main loop worker ignores exception and continues: {}\".format(e))\n",
    "        scheduler.enter(timeout, 1, _worker)    # schedule the next event\n",
    "\n",
    "    scheduler.enter(0, 1, _worker)              # start the first event\n",
    "    scheduler.run(blocking=True)"
   ]
  },
  {
   "cell_type": "code",
   "execution_count": 14,
   "metadata": {},
   "outputs": [
    {
     "ename": "KeyboardInterrupt",
     "evalue": "",
     "output_type": "error",
     "traceback": [
      "\u001b[0;31m---------------------------------------------------------------------------\u001b[0m",
      "\u001b[0;31mKeyboardInterrupt\u001b[0m                         Traceback (most recent call last)",
      "\u001b[0;32m<ipython-input-14-fed1ef3a8d9a>\u001b[0m in \u001b[0;36m<module>\u001b[0;34m\u001b[0m\n\u001b[0;32m----> 1\u001b[0;31m \u001b[0mmain_loop\u001b[0m\u001b[0;34m(\u001b[0m\u001b[0;34m)\u001b[0m\u001b[0;34m\u001b[0m\u001b[0;34m\u001b[0m\u001b[0m\n\u001b[0m",
      "\u001b[0;32m<ipython-input-13-24a72ae82fff>\u001b[0m in \u001b[0;36mmain_loop\u001b[0;34m(timeout)\u001b[0m\n\u001b[1;32m     10\u001b[0m \u001b[0;34m\u001b[0m\u001b[0m\n\u001b[1;32m     11\u001b[0m     \u001b[0mscheduler\u001b[0m\u001b[0;34m.\u001b[0m\u001b[0menter\u001b[0m\u001b[0;34m(\u001b[0m\u001b[0;36m0\u001b[0m\u001b[0;34m,\u001b[0m \u001b[0;36m1\u001b[0m\u001b[0;34m,\u001b[0m \u001b[0m_worker\u001b[0m\u001b[0;34m)\u001b[0m              \u001b[0;31m# start the first event\u001b[0m\u001b[0;34m\u001b[0m\u001b[0;34m\u001b[0m\u001b[0m\n\u001b[0;32m---> 12\u001b[0;31m     \u001b[0mscheduler\u001b[0m\u001b[0;34m.\u001b[0m\u001b[0mrun\u001b[0m\u001b[0;34m(\u001b[0m\u001b[0mblocking\u001b[0m\u001b[0;34m=\u001b[0m\u001b[0;32mTrue\u001b[0m\u001b[0;34m)\u001b[0m\u001b[0;34m\u001b[0m\u001b[0;34m\u001b[0m\u001b[0m\n\u001b[0m",
      "\u001b[0;32m~/anaconda3/lib/python3.7/sched.py\u001b[0m in \u001b[0;36mrun\u001b[0;34m(self, blocking)\u001b[0m\n\u001b[1;32m    147\u001b[0m                 \u001b[0;32mif\u001b[0m \u001b[0;32mnot\u001b[0m \u001b[0mblocking\u001b[0m\u001b[0;34m:\u001b[0m\u001b[0;34m\u001b[0m\u001b[0;34m\u001b[0m\u001b[0m\n\u001b[1;32m    148\u001b[0m                     \u001b[0;32mreturn\u001b[0m \u001b[0mtime\u001b[0m \u001b[0;34m-\u001b[0m \u001b[0mnow\u001b[0m\u001b[0;34m\u001b[0m\u001b[0;34m\u001b[0m\u001b[0m\n\u001b[0;32m--> 149\u001b[0;31m                 \u001b[0mdelayfunc\u001b[0m\u001b[0;34m(\u001b[0m\u001b[0mtime\u001b[0m \u001b[0;34m-\u001b[0m \u001b[0mnow\u001b[0m\u001b[0;34m)\u001b[0m\u001b[0;34m\u001b[0m\u001b[0;34m\u001b[0m\u001b[0m\n\u001b[0m\u001b[1;32m    150\u001b[0m             \u001b[0;32melse\u001b[0m\u001b[0;34m:\u001b[0m\u001b[0;34m\u001b[0m\u001b[0;34m\u001b[0m\u001b[0m\n\u001b[1;32m    151\u001b[0m                 \u001b[0maction\u001b[0m\u001b[0;34m(\u001b[0m\u001b[0;34m*\u001b[0m\u001b[0margument\u001b[0m\u001b[0;34m,\u001b[0m \u001b[0;34m**\u001b[0m\u001b[0mkwargs\u001b[0m\u001b[0;34m)\u001b[0m\u001b[0;34m\u001b[0m\u001b[0;34m\u001b[0m\u001b[0m\n",
      "\u001b[0;31mKeyboardInterrupt\u001b[0m: "
     ]
    }
   ],
   "source": [
    "main_loop()"
   ]
  },
  {
   "cell_type": "code",
   "execution_count": null,
   "metadata": {},
   "outputs": [],
   "source": []
  }
 ],
 "metadata": {
  "kernelspec": {
   "display_name": "Python 3",
   "language": "python",
   "name": "python3"
  },
  "language_info": {
   "codemirror_mode": {
    "name": "ipython",
    "version": 3
   },
   "file_extension": ".py",
   "mimetype": "text/x-python",
   "name": "python",
   "nbconvert_exporter": "python",
   "pygments_lexer": "ipython3",
   "version": "3.7.3"
  }
 },
 "nbformat": 4,
 "nbformat_minor": 2
}
