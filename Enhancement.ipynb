{
 "cells": [
  {
   "cell_type": "markdown",
   "metadata": {},
   "source": [
    "# Machine learning"
   ]
  },
  {
   "cell_type": "code",
   "execution_count": 4,
   "metadata": {},
   "outputs": [],
   "source": [
    "import json\n",
    "import requests\n",
    "import numpy as np\n",
    "import pandas as pd\n",
    "import plotly.express as px\n",
    "import matplotlib.pyplot as plt\n",
    "df = pd.read_csv(\"example_data2.csv\")"
   ]
  },
  {
   "cell_type": "markdown",
   "metadata": {},
   "source": [
    "## Kernel density estimation"
   ]
  },
  {
   "cell_type": "code",
   "execution_count": 5,
   "metadata": {
    "collapsed": true,
    "jupyter": {
     "outputs_hidden": true
    }
   },
   "outputs": [
    {
     "name": "stderr",
     "output_type": "stream",
     "text": [
      "/opt/conda/lib/python3.7/site-packages/ipykernel_launcher.py:5: SettingWithCopyWarning:\n",
      "\n",
      "\n",
      "A value is trying to be set on a copy of a slice from a DataFrame.\n",
      "Try using .loc[row_indexer,col_indexer] = value instead\n",
      "\n",
      "See the caveats in the documentation: http://pandas.pydata.org/pandas-docs/stable/user_guide/indexing.html#returning-a-view-versus-a-copy\n",
      "\n",
      "/opt/conda/lib/python3.7/site-packages/ipykernel_launcher.py:6: SettingWithCopyWarning:\n",
      "\n",
      "\n",
      "A value is trying to be set on a copy of a slice from a DataFrame.\n",
      "Try using .loc[row_indexer,col_indexer] = value instead\n",
      "\n",
      "See the caveats in the documentation: http://pandas.pydata.org/pandas-docs/stable/user_guide/indexing.html#returning-a-view-versus-a-copy\n",
      "\n"
     ]
    }
   ],
   "source": [
    "def cvt2date(df):\n",
    "    rst = []\n",
    "    for i in range(len(df)):\n",
    "        rst.append(df['datetime'].iloc[i].split()[0])\n",
    "    df['date'] = rst\n",
    "    df['date'] =pd.to_datetime(df.date)\n",
    "    df = df.sort_values(by='date',ascending=True)\n",
    "\n",
    "df_wf = df[df['title']=='Wildfires']\n",
    "cvt2date(df_wf)"
   ]
  },
  {
   "cell_type": "code",
   "execution_count": 6,
   "metadata": {},
   "outputs": [],
   "source": [
    "from sklearn.neighbors import KernelDensity\n",
    "from datetime import datetime\n",
    "\n",
    "def norm_kde(df_wf):\n",
    "    mean_geo2 = np.mean(df_wf['geo2'])\n",
    "    mean_geo1 = np.mean(df_wf['geo1'])\n",
    "    mean_date = np.mean([datetime.fromisoformat(str(df_wf['date'].iloc[i])).timestamp() for i in range(len(df_wf))])\n",
    "\n",
    "    std_geo2 = np.std(df_wf['geo2'])\n",
    "    std_geo1 = np.std(df_wf['geo1'])\n",
    "    std_date = np.std([datetime.fromisoformat(str(df_wf['date'].iloc[i])).timestamp() for i in range(len(df_wf))])\n",
    "    \n",
    "    X = np.array([ [ (df_wf['geo2'].iloc[i] - mean_geo2)/std_geo2,\n",
    "                    (df_wf['geo1'].iloc[i] - mean_geo1)/std_geo1,\n",
    "                    (datetime.fromisoformat(str(df_wf['date'].iloc[i])).timestamp()-mean_date)/std_date ] \n",
    "                  for i in range(len(df_wf)) ])\n",
    "    kde = KernelDensity(kernel='gaussian', bandwidth=.1).fit(X)\n",
    "    return kde,(mean_geo2,mean_geo1,mean_date,std_geo2,std_geo1,std_date)\n",
    "kde = norm_kde(df_wf)\n",
    "\n",
    "def kde_predict(x,kde):\n",
    "    a = (x[0]-kde[1][0])/kde[1][3]\n",
    "    b = (x[1]-kde[1][1])/kde[1][4]\n",
    "    c = (x[2]-kde[1][2])/kde[1][5]\n",
    "    return kde[0].score_samples([[a,b,c]])[0]\n",
    "    \n",
    "kde_pred = [kde_predict([df_wf['geo2'].iloc[i],\n",
    "                    df_wf['geo1'].iloc[i],\n",
    "                    datetime.fromisoformat(str(df_wf['date'].iloc[i])).timestamp()]\n",
    "                   ,kde\n",
    "                  )  for i in range(len(df_wf))]"
   ]
  },
  {
   "cell_type": "markdown",
   "metadata": {},
   "source": [
    "## Random forest"
   ]
  },
  {
   "cell_type": "code",
   "execution_count": 7,
   "metadata": {},
   "outputs": [],
   "source": [
    "df_la = pd.read_csv('la_history_w.csv')\n",
    "# la 34 -118\n",
    "# st 47 -122\n",
    "del df_la['Unnamed: 0']\n",
    "df_la['date'] = [datetime.fromisoformat(str(df_la['date'].iloc[i])).timestamp() for i in range(len(df_la))]\n",
    "df_la.head()\n",
    "y = [kde_predict([34,-118,i],kde) for i in df_la['date']]\n",
    "X = df_la"
   ]
  },
  {
   "cell_type": "code",
   "execution_count": 8,
   "metadata": {},
   "outputs": [],
   "source": [
    "from sklearn.model_selection import train_test_split\n",
    "from sklearn.preprocessing import StandardScaler\n",
    "from sklearn.ensemble import RandomForestRegressor\n",
    "from sklearn.metrics import r2_score\n",
    "from sklearn.model_selection import KFold\n",
    "from sklearn.linear_model import LinearRegression\n",
    "\n",
    "cont_ftr = df_la.columns[0:5].tolist() + df_la.columns[6:30].tolist()\n",
    "\n",
    "def rf_pip(X,y,random_state,n_folds):\n",
    "    \n",
    "    X_other, X_test, y_other, y_test = train_test_split(X, y, test_size=0.3, random_state = random_state[0])\n",
    "    kf = KFold(n_splits=n_folds,shuffle=True,random_state=random_state[1])\n",
    "    CV_scores = []\n",
    "    test_scores = []\n",
    "    \n",
    "    for train_index, CV_index in kf.split(X_other,y_other):\n",
    "        \n",
    "        X_train, X_CV = X_other.iloc[train_index,:], X_other.iloc[CV_index,:]\n",
    "        y_other = np.array(y_other)\n",
    "        y_train, y_CV = y_other[train_index], y_other[CV_index]\n",
    "\n",
    "        X_train_cont = X_train[cont_ftr]\n",
    "        X_train = X_train_cont\n",
    "\n",
    "        X_c_cont = X_CV[cont_ftr]\n",
    "        X_c = X_c_cont\n",
    "\n",
    "        X_t_cont = X_test[cont_ftr]\n",
    "        X_t = X_t_cont\n",
    "\n",
    "        train_score = []\n",
    "        CV_score = []\n",
    "        regs = []\n",
    "        par = range(2,11,2)\n",
    "        par_ls = []\n",
    "        for i in par:\n",
    "            for j in par:\n",
    "                reg = RandomForestRegressor(random_state = random_state[2], max_depth=i, \n",
    "                                             min_samples_split=j,n_estimators = 100)\n",
    "        reg.fit(X_train,y_train)\n",
    "        train_score.append(r2_score(y_train,reg.predict(X_train)))\n",
    "        CV_score.append(r2_score(y_CV,reg.predict(X_c)))\n",
    "        regs.append(reg)\n",
    "        best_par = (par[np.argmax(CV_score)//len(par)],par[np.argmin(CV_score)%len(par)])\n",
    "        reg = regs[np.argmax(CV_score)]\n",
    "        CV_scores.append(np.max(CV_score))\n",
    "        test_scores.append(r2_score(y_test,reg.predict(X_t)))\n",
    "    return (CV_scores,test_scores,best_par)#"
   ]
  },
  {
   "cell_type": "code",
   "execution_count": 9,
   "metadata": {},
   "outputs": [
    {
     "name": "stdout",
     "output_type": "stream",
     "text": [
      "Mean of test r2 scores: 0.7720578592210845\n",
      "Std of test r2 scores: 0.014162746703444612\n"
     ]
    }
   ],
   "source": [
    "ac = []\n",
    "for i in range(1,6):\n",
    "    op = rf_pip(X,y,[10*i,14*i,96*i],5)\n",
    "    ac.append(np.mean(op[1]))\n",
    "print(\"Mean of test r2 scores: \" + str(np.mean(ac)))\n",
    "print(\"Std of test r2 scores: \" + str(np.std(ac)))"
   ]
  },
  {
   "cell_type": "code",
   "execution_count": 10,
   "metadata": {},
   "outputs": [
    {
     "name": "stderr",
     "output_type": "stream",
     "text": [
      "/opt/conda/lib/python3.7/site-packages/sklearn/ensemble/forest.py:245: FutureWarning:\n",
      "\n",
      "The default value of n_estimators will change from 10 in version 0.20 to 100 in 0.22.\n",
      "\n"
     ]
    },
    {
     "data": {
      "text/plain": [
       "0.6645163653871835"
      ]
     },
     "execution_count": 10,
     "metadata": {},
     "output_type": "execute_result"
    }
   ],
   "source": [
    "from sklearn.model_selection import train_test_split\n",
    "from sklearn.preprocessing import StandardScaler\n",
    "from sklearn.ensemble import RandomForestRegressor\n",
    "from sklearn.metrics import r2_score\n",
    "import pickle\n",
    "\n",
    "\n",
    "X_other, X_test, y_other, y_test = train_test_split(X, y, test_size=0.4,random_state=1)\n",
    "X_train_cont = X_other[cont_ftr]\n",
    "\n",
    "X_t_cont = X_test[cont_ftr]\n",
    "\n",
    "reg = RandomForestRegressor(max_depth=2,min_samples_split=2,random_state=4)\n",
    "reg.fit(X_train_cont,y_other)\n",
    "# pickle.dump(reg, open(\"rf_002_la.pickle\", 'wb'))\n",
    "r2_score(y_test,reg.predict(X_t_cont))"
   ]
  },
  {
   "cell_type": "code",
   "execution_count": 11,
   "metadata": {},
   "outputs": [
    {
     "data": {
      "text/html": [
       "<div>\n",
       "<style scoped>\n",
       "    .dataframe tbody tr th:only-of-type {\n",
       "        vertical-align: middle;\n",
       "    }\n",
       "\n",
       "    .dataframe tbody tr th {\n",
       "        vertical-align: top;\n",
       "    }\n",
       "\n",
       "    .dataframe thead th {\n",
       "        text-align: right;\n",
       "    }\n",
       "</style>\n",
       "<table border=\"1\" class=\"dataframe\">\n",
       "  <thead>\n",
       "    <tr style=\"text-align: right;\">\n",
       "      <th></th>\n",
       "      <th>ftr</th>\n",
       "      <th>importance</th>\n",
       "    </tr>\n",
       "  </thead>\n",
       "  <tbody>\n",
       "    <tr>\n",
       "      <th>0</th>\n",
       "      <td>apparentTemperatureHigh</td>\n",
       "      <td>0.126842</td>\n",
       "    </tr>\n",
       "    <tr>\n",
       "      <th>1</th>\n",
       "      <td>apparentTemperatureLow</td>\n",
       "      <td>0.070695</td>\n",
       "    </tr>\n",
       "    <tr>\n",
       "      <th>2</th>\n",
       "      <td>apparentTemperatureMax</td>\n",
       "      <td>0.008520</td>\n",
       "    </tr>\n",
       "    <tr>\n",
       "      <th>3</th>\n",
       "      <td>apparentTemperatureMin</td>\n",
       "      <td>0.158102</td>\n",
       "    </tr>\n",
       "    <tr>\n",
       "      <th>4</th>\n",
       "      <td>cloudCover</td>\n",
       "      <td>0.014565</td>\n",
       "    </tr>\n",
       "    <tr>\n",
       "      <th>5</th>\n",
       "      <td>dewPoint</td>\n",
       "      <td>0.000000</td>\n",
       "    </tr>\n",
       "    <tr>\n",
       "      <th>6</th>\n",
       "      <td>humidity</td>\n",
       "      <td>0.000000</td>\n",
       "    </tr>\n",
       "    <tr>\n",
       "      <th>7</th>\n",
       "      <td>lat</td>\n",
       "      <td>0.000000</td>\n",
       "    </tr>\n",
       "    <tr>\n",
       "      <th>8</th>\n",
       "      <td>long</td>\n",
       "      <td>0.000000</td>\n",
       "    </tr>\n",
       "    <tr>\n",
       "      <th>9</th>\n",
       "      <td>moonPhase</td>\n",
       "      <td>0.000000</td>\n",
       "    </tr>\n",
       "    <tr>\n",
       "      <th>10</th>\n",
       "      <td>ozone</td>\n",
       "      <td>0.078989</td>\n",
       "    </tr>\n",
       "    <tr>\n",
       "      <th>11</th>\n",
       "      <td>pressure</td>\n",
       "      <td>0.099351</td>\n",
       "    </tr>\n",
       "    <tr>\n",
       "      <th>12</th>\n",
       "      <td>temperatureHigh</td>\n",
       "      <td>0.007350</td>\n",
       "    </tr>\n",
       "    <tr>\n",
       "      <th>13</th>\n",
       "      <td>temperatureLow</td>\n",
       "      <td>0.134580</td>\n",
       "    </tr>\n",
       "    <tr>\n",
       "      <th>14</th>\n",
       "      <td>temperatureMax</td>\n",
       "      <td>0.000000</td>\n",
       "    </tr>\n",
       "    <tr>\n",
       "      <th>15</th>\n",
       "      <td>temperatureMin</td>\n",
       "      <td>0.136243</td>\n",
       "    </tr>\n",
       "    <tr>\n",
       "      <th>16</th>\n",
       "      <td>uvIndex</td>\n",
       "      <td>0.073229</td>\n",
       "    </tr>\n",
       "    <tr>\n",
       "      <th>17</th>\n",
       "      <td>visibility</td>\n",
       "      <td>0.000000</td>\n",
       "    </tr>\n",
       "    <tr>\n",
       "      <th>18</th>\n",
       "      <td>windBearing</td>\n",
       "      <td>0.085392</td>\n",
       "    </tr>\n",
       "    <tr>\n",
       "      <th>19</th>\n",
       "      <td>windGust</td>\n",
       "      <td>0.000000</td>\n",
       "    </tr>\n",
       "    <tr>\n",
       "      <th>20</th>\n",
       "      <td>windSpeed</td>\n",
       "      <td>0.006142</td>\n",
       "    </tr>\n",
       "  </tbody>\n",
       "</table>\n",
       "</div>"
      ],
      "text/plain": [
       "                        ftr  importance\n",
       "0   apparentTemperatureHigh    0.126842\n",
       "1    apparentTemperatureLow    0.070695\n",
       "2    apparentTemperatureMax    0.008520\n",
       "3    apparentTemperatureMin    0.158102\n",
       "4                cloudCover    0.014565\n",
       "5                  dewPoint    0.000000\n",
       "6                  humidity    0.000000\n",
       "7                       lat    0.000000\n",
       "8                      long    0.000000\n",
       "9                 moonPhase    0.000000\n",
       "10                    ozone    0.078989\n",
       "11                 pressure    0.099351\n",
       "12          temperatureHigh    0.007350\n",
       "13           temperatureLow    0.134580\n",
       "14           temperatureMax    0.000000\n",
       "15           temperatureMin    0.136243\n",
       "16                  uvIndex    0.073229\n",
       "17               visibility    0.000000\n",
       "18              windBearing    0.085392\n",
       "19                 windGust    0.000000\n",
       "20                windSpeed    0.006142"
      ]
     },
     "execution_count": 11,
     "metadata": {},
     "output_type": "execute_result"
    }
   ],
   "source": [
    "pd.DataFrame({'ftr':cont_ftr,'importance':reg.feature_importances_})"
   ]
  },
  {
   "cell_type": "markdown",
   "metadata": {},
   "source": [
    "## Conclusion\n",
    "\n",
    "- Weather data can be used to predict fire alarm rate.\n",
    "- Temperature is an important feature in fire alarm rate prediction."
   ]
  }
 ],
 "metadata": {
  "kernelspec": {
   "display_name": "Python 3",
   "language": "python",
   "name": "python3"
  },
  "language_info": {
   "codemirror_mode": {
    "name": "ipython",
    "version": 3
   },
   "file_extension": ".py",
   "mimetype": "text/x-python",
   "name": "python",
   "nbconvert_exporter": "python",
   "pygments_lexer": "ipython3",
   "version": "3.7.3"
  }
 },
 "nbformat": 4,
 "nbformat_minor": 4
}
