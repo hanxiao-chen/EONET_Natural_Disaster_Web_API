{
 "cells": [
  {
   "cell_type": "markdown",
   "metadata": {},
   "source": [
    "# ETL_EDA"
   ]
  },
  {
   "cell_type": "markdown",
   "metadata": {},
   "source": [
    "This file includes two parts:  \n",
    "\n",
    "In the ETL part, it records the process of acquiring raw data, traforming them, and loading them into a MongoDB. The data are store (almost) in their raw form.\n",
    "\n",
    "In the EDA part, it provides reasonable data analysis for the wildfire alarming and gives the results we come up with after the analysis."
   ]
  },
  {
   "cell_type": "markdown",
   "metadata": {},
   "source": [
    "# ETL"
   ]
  },
  {
   "cell_type": "code",
   "execution_count": 1,
   "metadata": {},
   "outputs": [],
   "source": [
    "import time\n",
    "import sched\n",
    "import pandas as pd\n",
    "from datetime import datetime, timedelta\n",
    "import json\n",
    "import logging\n",
    "import requests\n",
    "import numpy as np\n",
    "from io import StringIO\n",
    "\n",
    "import utils\n",
    "from database import upsert_dis, upsert_wea"
   ]
  },
  {
   "cell_type": "code",
   "execution_count": 2,
   "metadata": {},
   "outputs": [],
   "source": [
    "DIS_SOURCE = \"https://eonet.sci.gsfc.nasa.gov/api/v2.1/events\"\n",
    "W_SOURCE = \"https://api.darksky.net/forecast/b4c50d35d2b602d506c708a505757c25/\"\n",
    "MAX_DOWNLOAD_ATTEMPT = 3\n",
    "DOWNLOAD_PERIOD = 300        # second\n",
    "logger = logging.Logger(__name__)\n",
    "utils.setup_logger(logger, 'data.log')"
   ]
  },
  {
   "cell_type": "markdown",
   "metadata": {},
   "source": [
    "## 1. Disasters Collection"
   ]
  },
  {
   "cell_type": "markdown",
   "metadata": {},
   "source": [
    "### a. DataFrame data from DIS"
   ]
  },
  {
   "cell_type": "markdown",
   "metadata": {},
   "source": [
    "The dataset is a continuously updated DataFrame. It contains the disasters happening/ended in a year. We filtered the data by selecting only three kinds of disasters. It can be retrieved simply by making requests without parameters."
   ]
  },
  {
   "cell_type": "code",
   "execution_count": 3,
   "metadata": {},
   "outputs": [],
   "source": [
    "def download_disaster(url=DIS_SOURCE, retries=MAX_DOWNLOAD_ATTEMPT, limit = 10, days = 2, status = \"open\", timeout = 1.0):\n",
    "    \"\"\"Returns disaster information text from `DIS_SOURCE` that includes disaster information\n",
    "    Returns None if network failed\n",
    "    \"\"\"\n",
    "    js = None\n",
    "    for _ in range(retries):\n",
    "        try:\n",
    "            req = requests.get(f\"{url}?limit={limit}&days={days}&status={status}\", timeout=timeout)\n",
    "            req.raise_for_status()\n",
    "            text = req.text\n",
    "            js = json.loads(text)\n",
    "        except requests.exceptions.HTTPError as e:\n",
    "            logger.warning(\"Retry on HTTP Error: {}\".format(e))\n",
    "    if js is None:\n",
    "        logger.error('download_dis too many FAILED attempts')\n",
    "    return js, status"
   ]
  },
  {
   "cell_type": "code",
   "execution_count": 4,
   "metadata": {},
   "outputs": [],
   "source": [
    "def filter_dis(js, status):\n",
    "    \"\"\"Converts `json` to `DataFrame`\n",
    "    \"\"\"\n",
    "    data = []\n",
    "    filter_tits = [\"Wildfires\", \"Severe_Storms\", \"Sea_and_Lake_Ice\"]\n",
    "    for x in js[\"events\"]:\n",
    "        tit = x[\"categories\"][0][\"title\"].replace(\" \",\"_\")\n",
    "        if tit not in filter_tits:\n",
    "            continue\n",
    "        try:\n",
    "            id = x[\"categories\"][0][\"id\"]\n",
    "            subtit, subid, url = x['title'], x['id'], x['sources'][0]['url'] if x[\"sources\"] else None\n",
    "            g = x[\"geometries\"]\n",
    "            for gg in g:\n",
    "                dt, geo = pd.to_datetime(gg[\"date\"]), gg['coordinates']\n",
    "                singled = [id, tit, subtit, subid, dt, geo[0], geo[1], status, url]\n",
    "                data.append(singled)\n",
    "        except:\n",
    "            continue\n",
    "    data = np.array(data)\n",
    "    df = pd.DataFrame(data, columns = [\"id\", \"title\", \"subid\", \"subtitle\", \"datetime\", \"geo1\", \"geo2\", \"status\", \"url\"])\n",
    "    return df"
   ]
  },
  {
   "cell_type": "markdown",
   "metadata": {},
   "source": [
    "### b. upsert Mongodb with DIS"
   ]
  },
  {
   "cell_type": "markdown",
   "metadata": {},
   "source": [
    "Fetching the data frequently, there are lots of duplicate data entry between each run. The de-duplication happens at insertion. We insert only when the disaster is new else we update it."
   ]
  },
  {
   "cell_type": "code",
   "execution_count": 5,
   "metadata": {},
   "outputs": [],
   "source": [
    "def upsert_dis(df):\n",
    "    \"\"\"\n",
    "    Update MongoDB database `disaster` and collection `disasters` with the given `DataFrame`.\n",
    "    \"\"\"\n",
    "    db = client.get_database(\"disaster\")\n",
    "    collection = db.get_collection(\"disasters\")\n",
    "    update_count = 0\n",
    "    for record in df.to_dict('records'):\n",
    "        result = collection.replace_one(\n",
    "            filter=record,                              # locate the document if exists\n",
    "            replacement=record,                         # latest document\n",
    "            upsert=True)                                # update if exists, insert if not\n",
    "        if result.matched_count > 0:\n",
    "            update_count += 1\n",
    "    logger.info(\"rows={}, update={}, \".format(df.shape[0], update_count) +\n",
    "                \"insert={}\".format(df.shape[0]-update_count))"
   ]
  },
  {
   "cell_type": "markdown",
   "metadata": {},
   "source": [
    "## 2. Weather Collection"
   ]
  },
  {
   "cell_type": "markdown",
   "metadata": {},
   "source": [
    "### a. DataFrame data from WEA"
   ]
  },
  {
   "cell_type": "code",
   "execution_count": 6,
   "metadata": {},
   "outputs": [],
   "source": [
    "def download_weather(url=W_SOURCE, retries=MAX_DOWNLOAD_ATTEMPT, lat=34, lon=-118, timeout=1.0):\n",
    "    \"\"\"Returns weather forecast information dataframe from `W_SOURCE` that includes weather information\n",
    "    Returns None if network failed\n",
    "    \"\"\"\n",
    "    df = None\n",
    "    for _ in range(retries):\n",
    "        try:\n",
    "            req = requests.get(f\"{url}{lat},{lon}\", timeout=timeout)\n",
    "            req.raise_for_status()\n",
    "            text = req.text\n",
    "            js = json.loads(text)\n",
    "            data1 = js['daily']['data']\n",
    "\n",
    "            tstamp = int(datetime.now().timestamp())\n",
    "            all_data = []\n",
    "            for ts in range(tstamp, tstamp-86400*30, -86400):\n",
    "                req = requests.get(f'{url}{lat},{lon},{ts}?exclude=hourly,currently', timeout=3.0)\n",
    "                req.raise_for_status()\n",
    "                text = req.text\n",
    "                js = json.loads(text)\n",
    "                data = js['daily']['data'][0]\n",
    "                all_data.append(data)\n",
    "            data = data1+all_data\n",
    "\n",
    "            df = pd.DataFrame()\n",
    "            for forecast in data:\n",
    "                dt = datetime.fromtimestamp(forecast['time'])\n",
    "                if dt < datetime.now()-timedelta(days=30):\n",
    "                    continue\n",
    "                fore_dict = {k:v for k,v in forecast.items() if ('Time' not in k and 'icon' not in k and 'summary' not in k and 'precip' not in k and 'time' not in k)}\n",
    "                fore_dict['long'], fore_dict['lat'],  fore_dict['date']= lon, lat, datetime(*dt.timetuple()[:3])\n",
    "                df = df.append(fore_dict, ignore_index=True)\n",
    "        except requests.exceptions.HTTPError as e:\n",
    "            logger.warning(\"Retry on HTTP Error: {}\".format(e))\n",
    "    if js is None:\n",
    "        logger.error('download_wea too many FAILED attempts')\n",
    "    return df"
   ]
  },
  {
   "cell_type": "markdown",
   "metadata": {},
   "source": [
    "### b. upsert Mongodb with WEA"
   ]
  },
  {
   "cell_type": "code",
   "execution_count": 8,
   "metadata": {},
   "outputs": [],
   "source": [
    "def upsert_wea(df):\n",
    "    \"\"\"\n",
    "    Update MongoDB database `disaster` and collection `weather` with the given `DataFrame`.\n",
    "    \"\"\"\n",
    "    db = client.get_database(\"disaster\")\n",
    "    collection = db.get_collection(\"weather\")\n",
    "    update_count = 0\n",
    "    for record in df.to_dict('records'):\n",
    "        result = collection.replace_one(\n",
    "            filter={k:v for k,v in record.items() if k in ['long','lat','date']},       # locate the document if exists\n",
    "            replacement=record,                         # latest document\n",
    "            upsert=True)                                # update if exists, insert if not\n",
    "        if result.matched_count > 0:\n",
    "            update_count += 1\n",
    "    logger.info(\"rows={}, update={}, \".format(df.shape[0], update_count) +\n",
    "                \"insert={}\".format(df.shape[0]-update_count))"
   ]
  },
  {
   "cell_type": "markdown",
   "metadata": {},
   "source": [
    "# EDA"
   ]
  },
  {
   "cell_type": "markdown",
   "metadata": {},
   "source": [
    "## 1. Preprocessing"
   ]
  },
  {
   "cell_type": "code",
   "execution_count": 4,
   "metadata": {},
   "outputs": [],
   "source": [
    "import json\n",
    "import requests\n",
    "import numpy as np\n",
    "import pandas as pd\n",
    "import plotly.express as px\n",
    "import matplotlib.pyplot as plt\n",
    "\n",
    "df = pd.read_csv(\"example_data2.csv\")"
   ]
  },
  {
   "cell_type": "code",
   "execution_count": 5,
   "metadata": {
    "collapsed": true,
    "jupyter": {
     "outputs_hidden": true
    }
   },
   "outputs": [
    {
     "name": "stderr",
     "output_type": "stream",
     "text": [
      "/opt/conda/lib/python3.7/site-packages/ipykernel_launcher.py:5: SettingWithCopyWarning:\n",
      "\n",
      "\n",
      "A value is trying to be set on a copy of a slice from a DataFrame.\n",
      "Try using .loc[row_indexer,col_indexer] = value instead\n",
      "\n",
      "See the caveats in the documentation: http://pandas.pydata.org/pandas-docs/stable/user_guide/indexing.html#returning-a-view-versus-a-copy\n",
      "\n",
      "/opt/conda/lib/python3.7/site-packages/ipykernel_launcher.py:6: SettingWithCopyWarning:\n",
      "\n",
      "\n",
      "A value is trying to be set on a copy of a slice from a DataFrame.\n",
      "Try using .loc[row_indexer,col_indexer] = value instead\n",
      "\n",
      "See the caveats in the documentation: http://pandas.pydata.org/pandas-docs/stable/user_guide/indexing.html#returning-a-view-versus-a-copy\n",
      "\n"
     ]
    }
   ],
   "source": [
    "def cvt2date(df):\n",
    "    rst = []\n",
    "    for i in range(len(df)):\n",
    "        rst.append(df['datetime'].iloc[i].split()[0])\n",
    "    df['date'] = rst\n",
    "    df['date'] = pd.to_datetime(df.date)\n",
    "    df = df.sort_values(by='date',ascending=True)\n",
    "\n",
    "df_wf = df[df['title']=='Wildfires']\n",
    "cvt2date(df_wf)"
   ]
  },
  {
   "cell_type": "code",
   "execution_count": 6,
   "metadata": {},
   "outputs": [],
   "source": [
    "import datetime\n",
    "\n",
    "def make_series(start,end):\n",
    "    start_date = start\n",
    "    end_date   = end \n",
    "    return [ str(start_date + datetime.timedelta(n)) for n in range(int ((end_date - start_date).days))]\n",
    "\n",
    "date_range = make_series(datetime.date(2017, 3, 30),datetime.date(2019, 10, 16))"
   ]
  },
  {
   "cell_type": "code",
   "execution_count": 7,
   "metadata": {},
   "outputs": [
    {
     "data": {
      "text/html": [
       "<div>\n",
       "<style scoped>\n",
       "    .dataframe tbody tr th:only-of-type {\n",
       "        vertical-align: middle;\n",
       "    }\n",
       "\n",
       "    .dataframe tbody tr th {\n",
       "        vertical-align: top;\n",
       "    }\n",
       "\n",
       "    .dataframe thead th {\n",
       "        text-align: right;\n",
       "    }\n",
       "</style>\n",
       "<table border=\"1\" class=\"dataframe\">\n",
       "  <thead>\n",
       "    <tr style=\"text-align: right;\">\n",
       "      <th></th>\n",
       "      <th>date</th>\n",
       "      <th>count</th>\n",
       "    </tr>\n",
       "  </thead>\n",
       "  <tbody>\n",
       "    <tr>\n",
       "      <th>0</th>\n",
       "      <td>2017-03-30</td>\n",
       "      <td>1.0</td>\n",
       "    </tr>\n",
       "    <tr>\n",
       "      <th>1</th>\n",
       "      <td>2017-03-31</td>\n",
       "      <td>0.0</td>\n",
       "    </tr>\n",
       "    <tr>\n",
       "      <th>2</th>\n",
       "      <td>2017-04-01</td>\n",
       "      <td>0.0</td>\n",
       "    </tr>\n",
       "    <tr>\n",
       "      <th>3</th>\n",
       "      <td>2017-04-02</td>\n",
       "      <td>0.0</td>\n",
       "    </tr>\n",
       "    <tr>\n",
       "      <th>4</th>\n",
       "      <td>2017-04-03</td>\n",
       "      <td>0.0</td>\n",
       "    </tr>\n",
       "  </tbody>\n",
       "</table>\n",
       "</div>"
      ],
      "text/plain": [
       "        date  count\n",
       "0 2017-03-30    1.0\n",
       "1 2017-03-31    0.0\n",
       "2 2017-04-01    0.0\n",
       "3 2017-04-02    0.0\n",
       "4 2017-04-03    0.0"
      ]
     },
     "execution_count": 7,
     "metadata": {},
     "output_type": "execute_result"
    }
   ],
   "source": [
    "def merge_df_count(df_wf,date_range):\n",
    "    df1 = pd.DataFrame({'date':df_wf.date.unique().tolist(),'count':df_wf.groupby('date').count()['title'].tolist()})\n",
    "    df1['date'] = pd.to_datetime(df1.date)\n",
    "    df2 = pd.DataFrame({'date':date_range})\n",
    "    df2['date'] =pd.to_datetime(df2.date)\n",
    "\n",
    "    df_date_count = df2.merge(df1, left_on='date', right_on='date',how='left')\n",
    "    df_date_count = df_date_count.fillna(0)\n",
    "    return df_date_count\n",
    "\n",
    "df_date_count = merge_df_count(df_wf,date_range)\n",
    "df_date_count.head()"
   ]
  },
  {
   "cell_type": "markdown",
   "metadata": {},
   "source": [
    "## 2. Kernel regression"
   ]
  },
  {
   "cell_type": "code",
   "execution_count": 27,
   "metadata": {},
   "outputs": [],
   "source": [
    "from statsmodels.nonparametric.kernel_regression import KernelReg\n",
    "x = range(len(df_date_count))\n",
    "y = df_date_count['count'].tolist()\n",
    "\n",
    "x_p = np.arange(min(x),max(x),0.1)\n",
    "y_p = KernelReg(y,x,'c').fit(x_p)[0]"
   ]
  },
  {
   "cell_type": "code",
   "execution_count": 28,
   "metadata": {},
   "outputs": [
    {
     "data": {
      "image/png": "[encoded data removed]",
      "text/plain": [
       "<Figure size 432x288 with 1 Axes>"
      ]
     },
     "metadata": {
      "needs_background": "light"
     },
     "output_type": "display_data"
    }
   ],
   "source": [
    "import matplotlib.pyplot as plt\n",
    "plt.scatter(x,y,alpha=0.3)\n",
    "plt.plot(x_p,y_p,c='r')\n",
    "plt.ylabel('num')\n",
    "plt.show()"
   ]
  },
  {
   "cell_type": "code",
   "execution_count": 21,
   "metadata": {},
   "outputs": [
    {
     "data": {
      "text/plain": [
       "[<matplotlib.lines.Line2D at 0x7f1b69f38860>]"
      ]
     },
     "execution_count": 21,
     "metadata": {},
     "output_type": "execute_result"
    },
    {
     "data": {
      "image/png": "[encoded data removed]",
      "text/plain": [
       "<Figure size 432x288 with 1 Axes>"
      ]
     },
     "metadata": {
      "needs_background": "light"
     },
     "output_type": "display_data"
    }
   ],
   "source": [
    "plt.plot(pd.DataFrame({'y':y_p - y}).ewm(com=100).std())"
   ]
  },
  {
   "cell_type": "markdown",
   "metadata": {},
   "source": [
    "## 3. Empirical mode decomposition"
   ]
  },
  {
   "cell_type": "code",
   "execution_count": 26,
   "metadata": {},
   "outputs": [
    {
     "name": "stderr",
     "output_type": "stream",
     "text": [
      "/opt/conda/lib/python3.7/site-packages/ipykernel_launcher.py:12: UserWarning:\n",
      "\n",
      "Tight layout not applied. tight_layout cannot make axes height small enough to accommodate all axes decorations\n",
      "\n"
     ]
    },
    {
     "data": {
      "image/png": "[encoded data removed]",
      "text/plain": [
       "<Figure size 432x288 with 8 Axes>"
      ]
     },
     "metadata": {
      "needs_background": "light"
     },
     "output_type": "display_data"
    }
   ],
   "source": [
    "# pip install EMD-signal\n",
    "from PyEMD import EMD\n",
    "\n",
    "IMF = EMD().emd(np.array(y),np.array(x))\n",
    "N = IMF.shape[0]+1\n",
    "\n",
    "for n, imf in enumerate(IMF):\n",
    "    plt.subplot(N,1,n+2)\n",
    "    plt.plot(x, imf)\n",
    "    plt.title(\"IMF \"+str(n+1))\n",
    "\n",
    "plt.tight_layout()\n",
    "plt.show()"
   ]
  },
  {
   "cell_type": "code",
   "execution_count": 22,
   "metadata": {},
   "outputs": [
    {
     "data": {
      "text/plain": [
       "[<matplotlib.lines.Line2D at 0x7fd6dfdf3240>]"
      ]
     },
     "execution_count": 22,
     "metadata": {},
     "output_type": "execute_result"
    },
    {
     "data": {
      "image/png": "[encoded data removed]",
      "text/plain": [
       "<Figure size 432x288 with 1 Axes>"
      ]
     },
     "metadata": {
      "needs_background": "light"
     },
     "output_type": "display_data"
    }
   ],
   "source": [
    "plt.plot(pd.DataFrame({'y':IMF[3]+IMF[2]+IMF[1]+IMF[0]}).ewm(com=100).std())"
   ]
  },
  {
   "cell_type": "markdown",
   "metadata": {},
   "source": [
    "## 4. Results\n",
    "\n",
    "- Increasing long-term trend.\n",
    "- Seasonality.\n",
    "- Increase in variance of the noise."
   ]
  },
  {
   "cell_type": "code",
   "execution_count": null,
   "metadata": {},
   "outputs": [],
   "source": []
  }
 ],
 "metadata": {
  "kernelspec": {
   "display_name": "Python 3",
   "language": "python",
   "name": "python3"
  },
  "language_info": {
   "codemirror_mode": {
    "name": "ipython",
    "version": 3
   },
   "file_extension": ".py",
   "mimetype": "text/x-python",
   "name": "python",
   "nbconvert_exporter": "python",
   "pygments_lexer": "ipython3",
   "version": "3.7.3"
  }
 },
 "nbformat": 4,
 "nbformat_minor": 4
}
